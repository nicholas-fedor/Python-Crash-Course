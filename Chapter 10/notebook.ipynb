{
 "cells": [
  {
   "cell_type": "markdown",
   "metadata": {},
   "source": [
    "# Chapter 10 - Files and Exceptions"
   ]
  },
  {
   "cell_type": "markdown",
   "metadata": {},
   "source": [
    "## Reading from a File"
   ]
  },
  {
   "cell_type": "markdown",
   "metadata": {},
   "source": [
    "### Reading an Entire File"
   ]
  },
  {
   "cell_type": "markdown",
   "metadata": {},
   "source": [
    "#### Example\n",
    "```text\n",
    "# pi_digits.txt\n",
    "3.141592653589793238462643383279\n",
    "```\n",
    "```python\n",
    "# file_reader.py\n",
    "with open('pi_digits.txt') as file_object:\n",
    "    contents = file_object.read()\n",
    "print(contents)\n",
    "```\n",
    "```python\n",
    "# Removes extra blank lines.\n",
    "print(contents.rstrip())\n",
    "```"
   ]
  },
  {
   "cell_type": "markdown",
   "metadata": {},
   "source": [
    "### File Paths\n",
    "\n",
    "* Relative and absolute file paths can be used.\n",
    "\n",
    "#### Example 1\n",
    "```python\n",
    "with open('text_files/filename.txt') as file_object:\n",
    "```\n",
    "\n",
    "#### Example 2\n",
    "```python\n",
    "file_path = '/home/ehmattes/other_files/text_files/filename.txt'\n",
    "with open(file_path) as file_object:\n",
    "```"
   ]
  },
  {
   "cell_type": "markdown",
   "metadata": {},
   "source": [
    "### Reading Line by Line\n",
    "\n",
    "#### Example\n",
    "```python\n",
    "# file_reader.py\n",
    "filename = 'pi_digits.txt'\n",
    "\n",
    "with open(filename) as file_object:\n",
    "    for line in file_object:\n",
    "        print(line)\n",
    "```"
   ]
  },
  {
   "cell_type": "markdown",
   "metadata": {},
   "source": [
    "### Making a List of Lines from a File\n",
    "\n",
    "#### Example\n",
    "```python\n",
    "filename = 'pi_digits.txt'\n",
    "\n",
    "# readlines() method takes each line from the file and stores it in a list, called \"lines\".\n",
    "with open(filename) as file_object: \n",
    "    lines = file_object.readlines()\n",
    "\n",
    "# a simple for loop to print each line from the \"lines\" list.\n",
    "for line in lines:\n",
    "    print(line.rstrip())\n",
    "```"
   ]
  },
  {
   "cell_type": "markdown",
   "metadata": {},
   "source": [
    "### Working with a File's Contents\n",
    "\n",
    "#### Example\n",
    "\n",
    "```python\n",
    "filename = 'pi_digits.txt'\n",
    "\n",
    "# opens the file and stores each line of data in a list.\n",
    "with open(filename) as file_object:\n",
    "    lines = file_object.readlines()\n",
    "\n",
    "# creates a variable to hold the digits of pi\n",
    "pi_string = ''\n",
    "# a loop to add each line of digits to pi_string and removes the newline character from each line.\n",
    "for line in lines:\n",
    "    #pi_string += line.rstrip()\n",
    "    pi_string += line.strip() # This is better, as it removes all whitespace.\n",
    "\n",
    "print(pi_string)\n",
    "print(len(pi_string))\n",
    "```\n",
    "\n",
    "* Remember that the output is in string from and will need to be converted to a number form (int/float) prior to working with it further."
   ]
  },
  {
   "cell_type": "markdown",
   "metadata": {},
   "source": [
    "### Large Files: One Million Digits\n",
    "\n",
    "#### Example\n",
    "\n",
    "```python\n",
    "filename = 'pi_million_digits.txt'\n",
    "\n",
    "with open(filename) as file_object:\n",
    "    lines = file_object.readlines()\n",
    "\n",
    "pi_string = ''\n",
    "\n",
    "for line in lines:\n",
    "    pi_string += line.strip()\n",
    "\n",
    "print(f\"{pi_string[:52]}...\") # 3.14159265... (shortened from example)\n",
    "print(len(pi_string)) # 1000002\n",
    "```\n",
    "\n",
    "Running this program, and other examples, you may need to download resources available at https://nostarch.com/pythoncrashcourse2e/"
   ]
  },
  {
   "cell_type": "markdown",
   "metadata": {},
   "source": [
    "### Is Your Birthday Contained in Pi?\n",
    "\n",
    "#### Example\n",
    "Find if someone's birthday is in the first one million digits of Pi.\n",
    "\n",
    "````python\n",
    "---snip---\n",
    "for line in lines:\n",
    "    pi_string += line.strip()\n",
    "\n",
    "birthday = input(\"Enter your birthday, using the form MMDDYY: \")\n",
    "if birthday in pi_string:\n",
    "    print(\"Your birthday appears in the first million digits of Pi!\")\n",
    "else:\n",
    "    print(\"Your birthday does not appear in the first million digits of Pi.\")\n",
    "````"
   ]
  },
  {
   "cell_type": "markdown",
   "metadata": {},
   "source": [
    "## Writing to a File\n",
    "\n",
    "### Writing to an Empty File\n",
    "\n",
    "* Calling the open() function has two arguments:\n",
    "    1) the file's path\n",
    "    2) the mode for opening the file, such as:\n",
    "        - write mode (w)\n",
    "        - read mode (r)\n",
    "        - append mode (a)\n",
    "        - read and write mode (r+)\n",
    "\n",
    "* Python can only write text strings to files.\n",
    "    * This requires using the str() function to convert numerical data.\n",
    "\n",
    "#### Example\n",
    "\n",
    "````python\n",
    "filename = 'programming.txt'\n",
    "\n",
    "with open(filename, 'w') as file_object:\n",
    "    file_object.write(\"I love programming.\")\n",
    "````"
   ]
  },
  {
   "cell_type": "markdown",
   "metadata": {},
   "source": [
    "### Writing Multiple Lines\n",
    "\n",
    "To output to multiple lines, use the newline characters \"\\n\".\n",
    "\n",
    "#### Example\n",
    "\n",
    "````python\n",
    "    file_object.write(\"I love creating new games.\\n\")\n",
    "````\n",
    "\n",
    "You can also use spaces, tab characters, and blank lines to format your output."
   ]
  },
  {
   "cell_type": "markdown",
   "metadata": {},
   "source": [
    "### Appending to a File\n",
    "\n",
    "\n",
    "\n",
    "#### Example\n",
    "\n",
    "````python\n",
    "with open(filename, 'a') as file_object:\n",
    "    file_object.write(\"I also love finding meaning in large datasets.\\n\")\n",
    "    file_object.write(\"I love creating apps that can run in a browser.\\n\")\n",
    "````\n",
    "programming.txt\n",
    "````programming.txt\n",
    "I love programming.\n",
    "I love creating new games.\n",
    "I also love finding meaning in large datasets\n",
    "I love creating apps that can run in a browser.\n",
    "````"
   ]
  },
  {
   "cell_type": "markdown",
   "metadata": {},
   "source": [
    "## Exceptions\n",
    "\n",
    "* Python's version of error handling.\n",
    "* Implemented by using 'try-except' blocks."
   ]
  },
  {
   "cell_type": "markdown",
   "metadata": {},
   "source": [
    "### Handling the ZeroDivisionError Exception"
   ]
  },
  {
   "cell_type": "markdown",
   "metadata": {},
   "source": [
    "#### Example\n",
    "\n",
    "The function below will output an exception object of ZeroDivisionError."
   ]
  },
  {
   "cell_type": "code",
   "execution_count": null,
   "metadata": {},
   "outputs": [],
   "source": [
    "print(5/0)\n",
    "\n",
    "# ZeroDivisionError                         Traceback (most recent call last)\n",
    "# /home/nick/Projects/Studying/Python Crash Course/Chapter 10/notebook.ipynb Cell 16 in <cell line: 1>()\n",
    "# ----> 1 print(5/0)\n",
    "\n",
    "# ZeroDivisionError: division by zero"
   ]
  },
  {
   "cell_type": "markdown",
   "metadata": {},
   "source": [
    "### Using try-except Blocks\n",
    "\n",
    "#### Example"
   ]
  },
  {
   "cell_type": "code",
   "execution_count": null,
   "metadata": {},
   "outputs": [],
   "source": [
    "try:\n",
    "    print(5/0)\n",
    "except ZeroDivisionError:\n",
    "    print(\"You can't divide by zero!\")\n",
    "\n",
    "#You can't divide by zero!"
   ]
  },
  {
   "cell_type": "markdown",
   "metadata": {},
   "source": [
    "### Using Exceptions to Prevent Crashes\n",
    "\n",
    "#### Example\n",
    "\n",
    "Simple calculator that does only division.\n",
    "\n",
    "* This has no error handling"
   ]
  },
  {
   "cell_type": "code",
   "execution_count": null,
   "metadata": {},
   "outputs": [],
   "source": [
    "print(\"Give me two numbers, and I'll divide them.\")\n",
    "print(\"Enter 'q' to quit.\")\n",
    "\n",
    "while True:\n",
    "    first_number = input(\"\\nFirst Number: \")\n",
    "    if first_number == 'q':\n",
    "    second_number = input(\"Second number: \")\n",
    "    if second_number == 'q':\n",
    "        break\n",
    "\n",
    "    answer = int(first_number) / int(second_number)\n",
    "    print(answer)"
   ]
  },
  {
   "cell_type": "markdown",
   "metadata": {},
   "source": [
    "### The else Block\n",
    "\n",
    "#### Example\n",
    "\n",
    "This is the same example as before, but now has error handling with the core business logic."
   ]
  },
  {
   "cell_type": "code",
   "execution_count": null,
   "metadata": {},
   "outputs": [],
   "source": [
    "print(\"Give me two numbers, and I'll divide them.\")\n",
    "print(\"Enter 'q' to quit.\")\n",
    "\n",
    "while True:\n",
    "    first_number = input(\"\\nFirst Number: \")\n",
    "    if first_number == 'q':\n",
    "    second_number = input(\"Second number: \")\n",
    "    if second_number == 'q':\n",
    "        break\n",
    "\n",
    "    try:\n",
    "        answer = int(first_number) / int(second_number)\n",
    "    except ZeroDivisionError:\n",
    "        print(\"You can't divide by 0!\")\n",
    "    else:\n",
    "        print(answer)"
   ]
  },
  {
   "cell_type": "markdown",
   "metadata": {},
   "source": [
    "### Handling the FileNotFoundError Exception\n",
    "\n",
    "* FileNotFoundError object output is generated and needs to be handled.\n",
    "\n",
    "#### Example\n",
    "\n",
    "Sample Output: \n",
    "\n",
    "```\n",
    "FileNotFoundError                         Traceback (most recent call last)\n",
    "/home/nick/Projects/Studying/Python Crash Course/Chapter 10/notebook.ipynb Cell 25 in <cell line: 3>()\n",
    "      1 filename = 'alice.txt'\n",
    "----> 3 with open(filename, encoding='utf-8') as f:\n",
    "      4     contents = f.read()\n",
    "\n",
    "FileNotFoundError: [Errno 2] No such file or directory: 'alice.txt'\n",
    "```\n"
   ]
  },
  {
   "cell_type": "code",
   "execution_count": null,
   "metadata": {},
   "outputs": [],
   "source": [
    "filename = 'alice.txt'\n",
    "\n",
    "try:\n",
    "    with open(filename, encoding='utf-8') as f:\n",
    "        contents = f.read()\n",
    "except FileNotFoundError:\n",
    "    print(f\"Sorry, the file {filename} does not exist.\")\n",
    "\n",
    "# Sorry, the file alice.txt does not exist."
   ]
  },
  {
   "cell_type": "markdown",
   "metadata": {},
   "source": [
    "### Analyzing Text\n",
    "\n",
    "Recommended source for literary text files: https://gutenberg.org/\n",
    "\n",
    "* split() Method - generates a list of the words from a string by using spaces as the delimiter.\n",
    "\n",
    "#### Example\n"
   ]
  },
  {
   "cell_type": "code",
   "execution_count": null,
   "metadata": {},
   "outputs": [],
   "source": [
    "title = \"Alice in Wonderland\"\n",
    "title.split()\n",
    "# ['Alice', 'in', 'Wonderland']"
   ]
  },
  {
   "cell_type": "code",
   "execution_count": null,
   "metadata": {},
   "outputs": [],
   "source": [
    "filename = 'alice.txt'\n",
    "\n",
    "try:\n",
    "    with open(filename, encoding='utf-8') as f:\n",
    "        contents = f.read()\n",
    "except FileNotFoundError:\n",
    "    print(f\"Sorry, the file {filename} does not exist.\")\n",
    "else:\n",
    "    # Count the approximate number of words in the file.\n",
    "    words = contents.split()\n",
    "    num_words = len(words)\n",
    "    print(f\"The file {filename} has about {num_words} words.\")"
   ]
  },
  {
   "cell_type": "markdown",
   "metadata": {},
   "source": [
    "### Working with Multiple Files\n",
    "\n",
    "#### Example"
   ]
  },
  {
   "cell_type": "code",
   "execution_count": null,
   "metadata": {},
   "outputs": [],
   "source": [
    "def count_words(filename):\n",
    "    \"\"\"Count the approximate number of words in a file.\"\"\"\n",
    "    try:\n",
    "        with open(filename, encoding='utf-8') as f:\n",
    "            contents = f.read()\n",
    "    except FileNotFoundError:\n",
    "        pass # The code runs and no traceback or errors are outputted. The user won't see that a file wasn't found. \n",
    "    else:\n",
    "        words = contents.split()\n",
    "        num_words = len(words)\n",
    "        print(f\"The file {filename} has about {num_words} words.\")\n",
    "\n",
    "filenames = ['alice.txt', 'siddhartha.txt', 'moby_dick.txt']\n",
    "for filename in filenames:\n",
    "    count_words(filename)\n"
   ]
  },
  {
   "cell_type": "markdown",
   "metadata": {},
   "source": [
    "### Deciding Which Errors to Report\n",
    "\n",
    "* This is purely subjective, based on the program and its intended users."
   ]
  },
  {
   "cell_type": "markdown",
   "metadata": {},
   "source": [
    "## Storing Data\n",
    "\n",
    "### Using json.dump() and json.load()\n",
    "\n",
    "#### Example"
   ]
  },
  {
   "cell_type": "code",
   "execution_count": null,
   "metadata": {},
   "outputs": [],
   "source": [
    "# number_writer.py\n",
    "import json\n",
    "\n",
    "numbers = [2,3,5,7,11,13]\n",
    "\n",
    "filename = 'numbers.json'\n",
    "with open(filename, 'w') as f:\n",
    "    json.dump(numbers, f)"
   ]
  },
  {
   "cell_type": "code",
   "execution_count": null,
   "metadata": {},
   "outputs": [],
   "source": [
    "# number_reader.py\n",
    "import json\n",
    "\n",
    "filename = 'numbers.json'\n",
    "with open(filename) as f:\n",
    "    numbers = json.load()\n",
    "\n",
    "print(numbers)"
   ]
  },
  {
   "cell_type": "markdown",
   "metadata": {},
   "source": [
    "### Saving and Reading User-Generated Data\n",
    "\n",
    "#### Example"
   ]
  },
  {
   "cell_type": "code",
   "execution_count": null,
   "metadata": {},
   "outputs": [],
   "source": [
    "# remember_me.py\n",
    "import json\n",
    "\n",
    "# prompt for a username to store\n",
    "username = input(\"What is your name? \")\n",
    "\n",
    "filename = 'username.json'\n",
    "with open(filename, 'w') as f:\n",
    "    # json.dump() is passed the two objects to store the username in a file.\n",
    "    json.dump(username, f)\n",
    "    print(f\"We'll remember you when you come back, {username}!\")"
   ]
  },
  {
   "cell_type": "code",
   "execution_count": null,
   "metadata": {},
   "outputs": [],
   "source": [
    "# greet_user.py\n",
    "\n",
    "import json\n",
    "\n",
    "filename = 'username.json'\n",
    "\n",
    "with open(filename) as f:\n",
    "    username = json.load(f)\n",
    "    print(f\"Welcome back, {username}!\")"
   ]
  },
  {
   "cell_type": "code",
   "execution_count": null,
   "metadata": {},
   "outputs": [],
   "source": [
    "# remember_me.py \n",
    "# joins the two functions\n",
    "\n",
    "import json\n",
    "\n",
    "# Load the username, if it has been previously stored.\n",
    "#  Otherwise, prompt for the username and store it.\n",
    "\n",
    "filename = 'username.json'\n",
    "\n",
    "try:\n",
    "    with open(filename) as f:\n",
    "        username = json.load(f)\n",
    "except FileNotFoundError:\n",
    "    username = input(\"What is your name? \")\n",
    "    with open(filename, 'w') as f:\n",
    "        json.dump(username, f)\n",
    "        print(f\"We'll remember you when you come back, {username}!\")\n",
    "else:\n",
    "    print(f\"Welcome back, {username}!\")"
   ]
  },
  {
   "cell_type": "markdown",
   "metadata": {},
   "source": [
    "### Refactoring\n",
    "\n",
    "- Breaking up your code into a series of functions that perform specific jobs.\n",
    "- Intended to make code cleaner and easier to extend.\n",
    "\n",
    "#### Example"
   ]
  },
  {
   "cell_type": "code",
   "execution_count": null,
   "metadata": {},
   "outputs": [],
   "source": [
    "# remember_me.py\n",
    "import json\n",
    "\n",
    "def greet_user():\n",
    "    \"\"\"Greet the user by name.\"\"\"\n",
    "    filename = 'username.json'\n",
    "    try:\n",
    "        with open(filename) as f:\n",
    "            username = json.load(f)\n",
    "    except FileNotFoundError:\n",
    "        username = input(\"What is your name? \")\n",
    "        with open(filename, 'w') as f:\n",
    "            json.dump(username, f)\n",
    "            print(f\"We'll remember you when you come back, {username}!\")\n",
    "    else:\n",
    "        print(f\"Welcome back, {username}!\")\n",
    "\n",
    "greet_user()"
   ]
  },
  {
   "cell_type": "code",
   "execution_count": null,
   "metadata": {},
   "outputs": [],
   "source": [
    "# Refactored\n",
    "import json\n",
    "\n",
    "def get_stored_username():\n",
    "    \"\"\"Get stored username if available.\"\"\"\n",
    "    filename = 'username.json'\n",
    "    try:\n",
    "        with open(filename) as f:\n",
    "            username = json.load(f)\n",
    "    except FileNotFoundError:\n",
    "        return None\n",
    "    else:\n",
    "        return username\n",
    "\n",
    "def get_new_username():\n",
    "    \"\"\"Prompt for a new username.\"\"\"\n",
    "    username = input(\"What is your name? \")\n",
    "    filename = 'username.json'\n",
    "    with open(filename, 'w') as f:\n",
    "        json.dump(username, f)\n",
    "    return username\n",
    "\n",
    "\n",
    "def greet_user():\n",
    "    \"\"\"Greet the user by name.\"\"\"\n",
    "    username = get_stored_username()\n",
    "    if username:\n",
    "        print(f\"Welcome back, {username}!\")\n",
    "    else:\n",
    "        username = get_new_username()\n",
    "        print(f\"We'll remember you when you come back, {username}!\")\n",
    "\n",
    "greet_user()"
   ]
  },
  {
   "cell_type": "markdown",
   "metadata": {},
   "source": [
    "# template\n",
    "\n",
    "## topic\n",
    "\n",
    "### subtopic\n",
    "\n",
    "#### Example\n",
    "\n",
    "````python\n",
    "\n",
    "````"
   ]
  }
 ],
 "metadata": {
  "kernelspec": {
   "display_name": "Python 3.8.10 64-bit",
   "language": "python",
   "name": "python3"
  },
  "language_info": {
   "codemirror_mode": {
    "name": "ipython",
    "version": 3
   },
   "file_extension": ".py",
   "mimetype": "text/x-python",
   "name": "python",
   "nbconvert_exporter": "python",
   "pygments_lexer": "ipython3",
   "version": "3.8.10"
  },
  "orig_nbformat": 4,
  "vscode": {
   "interpreter": {
    "hash": "e7370f93d1d0cde622a1f8e1c04877d8463912d04d973331ad4851f04de6915a"
   }
  }
 },
 "nbformat": 4,
 "nbformat_minor": 2
}
