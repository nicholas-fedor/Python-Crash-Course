{
 "cells": [
  {
   "cell_type": "markdown",
   "metadata": {},
   "source": [
    "# Chapter 10 - Files and Exceptions"
   ]
  },
  {
   "cell_type": "markdown",
   "metadata": {},
   "source": [
    "## Reading from a File"
   ]
  },
  {
   "cell_type": "markdown",
   "metadata": {},
   "source": [
    "### Reading an Entire File"
   ]
  },
  {
   "cell_type": "markdown",
   "metadata": {},
   "source": [
    "#### Example\n",
    "```text\n",
    "# pi_digits.txt\n",
    "3.141592653589793238462643383279\n",
    "```\n",
    "```python\n",
    "# file_reader.py\n",
    "with open('pi_digits.txt') as file_object:\n",
    "    contents = file_object.read()\n",
    "print(contents)\n",
    "```\n",
    "```python\n",
    "# Removes extra blank lines.\n",
    "print(contents.rstrip())\n",
    "```"
   ]
  },
  {
   "cell_type": "markdown",
   "metadata": {},
   "source": [
    "### File Paths\n",
    "\n",
    "* Relative and absolute file paths can be used.\n",
    "\n",
    "#### Example 1\n",
    "```python\n",
    "with open('text_files/filename.txt') as file_object:\n",
    "```\n",
    "\n",
    "#### Example 2\n",
    "```python\n",
    "file_path = '/home/ehmattes/other_files/text_files/filename.txt'\n",
    "with open(file_path) as file_object:\n",
    "```"
   ]
  },
  {
   "cell_type": "markdown",
   "metadata": {},
   "source": [
    "### Reading Line by Line\n",
    "\n",
    "#### Example\n",
    "```python\n",
    "# file_reader.py\n",
    "filename = 'pi_digits.txt'\n",
    "\n",
    "with open(filename) as file_object:\n",
    "    for line in file_object:\n",
    "        print(line)\n",
    "```"
   ]
  },
  {
   "cell_type": "markdown",
   "metadata": {},
   "source": [
    "### Making a List of Lines from a File\n",
    "\n",
    "#### Example\n",
    "```python\n",
    "filename = 'pi_digits.txt'\n",
    "\n",
    "# readlines() method takes each line from the file and stores it in a list, called \"lines\".\n",
    "with open(filename) as file_object: \n",
    "    lines = file_object.readlines()\n",
    "\n",
    "# a simple for loop to print each line from the \"lines\" list.\n",
    "for line in lines:\n",
    "    print(line.rstrip())\n",
    "```"
   ]
  },
  {
   "cell_type": "markdown",
   "metadata": {},
   "source": [
    "### Working with a File's Contents\n",
    "\n",
    "#### Example\n",
    "\n",
    "```python\n",
    "filename = 'pi_digits.txt'\n",
    "\n",
    "# opens the file and stores each line of data in a list.\n",
    "with open(filename) as file_object:\n",
    "    lines = file_object.readlines()\n",
    "\n",
    "# creates a variable to hold the digits of pi\n",
    "pi_string = ''\n",
    "# a loop to add each line of digits to pi_string and removes the newline character from each line.\n",
    "for line in lines:\n",
    "    #pi_string += line.rstrip()\n",
    "    pi_string += line.strip() # This is better, as it removes all whitespace.\n",
    "\n",
    "print(pi_string)\n",
    "print(len(pi_string))\n",
    "```\n",
    "\n",
    "* Remember that the output is in string from and will need to be converted to a number form (int/float) prior to working with it further."
   ]
  },
  {
   "cell_type": "markdown",
   "metadata": {},
   "source": [
    "### Large Files: One Million Digits\n",
    "\n",
    "#### Example\n",
    "\n",
    "```python\n",
    "filename = 'pi_million_digits.txt'\n",
    "\n",
    "with open(filename) as file_object:\n",
    "    lines = file_object.readlines()\n",
    "\n",
    "pi_string = ''\n",
    "\n",
    "for line in lines:\n",
    "    pi_string += line.strip()\n",
    "\n",
    "print(f\"{pi_string[:52]}...\") # 3.14159265... (shortened from example)\n",
    "print(len(pi_string)) # 1000002\n",
    "```\n",
    "\n",
    "Running this program, and other examples, you may need to download resources available at https://nostarch.com/pythoncrashcourse2e/"
   ]
  }
 ],
 "metadata": {
  "kernelspec": {
   "display_name": "Python 3.8.10 64-bit",
   "language": "python",
   "name": "python3"
  },
  "language_info": {
   "codemirror_mode": {
    "name": "ipython",
    "version": 3
   },
   "file_extension": ".py",
   "mimetype": "text/x-python",
   "name": "python",
   "nbconvert_exporter": "python",
   "pygments_lexer": "ipython3",
   "version": "3.8.10"
  },
  "orig_nbformat": 4,
  "vscode": {
   "interpreter": {
    "hash": "e7370f93d1d0cde622a1f8e1c04877d8463912d04d973331ad4851f04de6915a"
   }
  }
 },
 "nbformat": 4,
 "nbformat_minor": 2
}
